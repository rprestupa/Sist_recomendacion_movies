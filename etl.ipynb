{
 "cells": [
  {
   "cell_type": "markdown",
   "metadata": {},
   "source": [
    "# ETl para sistema de recomendación de películas basado en el contenido y desarrollo de APIs"
   ]
  },
  {
   "cell_type": "code",
   "execution_count": 1,
   "metadata": {},
   "outputs": [],
   "source": [
    "import pandas as pd\n",
    "import numpy as np\n",
    "from datetime import datetime\n",
    "from ast import literal_eval"
   ]
  },
  {
   "cell_type": "code",
   "execution_count": 16,
   "metadata": {},
   "outputs": [
    {
     "name": "stderr",
     "output_type": "stream",
     "text": [
      "C:\\Users\\romin\\AppData\\Local\\Temp\\ipykernel_24276\\616045571.py:3: DtypeWarning: Columns (10) have mixed types. Specify dtype option on import or set low_memory=False.\n",
      "  df_mov = pd.read_csv(r\"C:\\Users\\romin\\Documents\\PROGRAMACION\\CIENCIA DE DATOS\\PROYECTOS\\Sist_recom._movies\\dsets\\movies_dataset.csv\", parse_dates = ['release_date'])\n"
     ]
    }
   ],
   "source": [
    "#DATOS\n",
    "\n",
    "df_mov = pd.read_csv(r\"dsets\\movies_dataset.csv\", parse_dates = ['release_date'])\n",
    "df_credits = pd.read_csv(r\"dsets\\credits.csv\")"
   ]
  },
  {
   "cell_type": "markdown",
   "metadata": {},
   "source": [
    "# ETL\n",
    "\n",
    "El objetivo es la preparación de los datos para la implementación del sistema de recomendación y de las APIs."
   ]
  },
  {
   "cell_type": "markdown",
   "metadata": {},
   "source": [
    "Ambos sets de datos deberán unirse, se chequea la compatibilidad:"
   ]
  },
  {
   "cell_type": "code",
   "execution_count": 3,
   "metadata": {},
   "outputs": [
    {
     "name": "stdout",
     "output_type": "stream",
     "text": [
      "Index(['adult', 'belongs_to_collection', 'budget', 'genres', 'homepage', 'id',\n",
      "       'imdb_id', 'original_language', 'original_title', 'overview',\n",
      "       'popularity', 'poster_path', 'production_companies',\n",
      "       'production_countries', 'release_date', 'revenue', 'runtime',\n",
      "       'spoken_languages', 'status', 'tagline', 'title', 'video',\n",
      "       'vote_average', 'vote_count'],\n",
      "      dtype='object')\n",
      "Index(['cast', 'crew', 'id'], dtype='object')\n",
      "\n",
      "Filas de películas 45466\n",
      "Filas de créditos 45476\n"
     ]
    }
   ],
   "source": [
    "# búsqueda de columnas en común y registros repetidos o faltantes\n",
    "\n",
    "print(df_mov.columns)\n",
    "print(df_credits.columns)\n",
    "\n",
    "print('\\nFilas de películas',len(df_mov))\n",
    "print('Filas de créditos',len(df_credits))"
   ]
  },
  {
   "cell_type": "code",
   "execution_count": 4,
   "metadata": {},
   "outputs": [
    {
     "data": {
      "text/plain": [
       "44"
      ]
     },
     "execution_count": 4,
     "metadata": {},
     "output_type": "execute_result"
    }
   ],
   "source": [
    "# corroborar que hay registros duplicados para eliminarlos\n",
    "\n",
    "len(df_credits[df_credits['id'].duplicated()])"
   ]
  },
  {
   "cell_type": "code",
   "execution_count": 17,
   "metadata": {},
   "outputs": [],
   "source": [
    "df_credits = df_credits.drop_duplicates(subset='id', keep='first')\n"
   ]
  },
  {
   "cell_type": "markdown",
   "metadata": {},
   "source": [
    "Join"
   ]
  },
  {
   "cell_type": "code",
   "execution_count": 6,
   "metadata": {},
   "outputs": [
    {
     "name": "stdout",
     "output_type": "stream",
     "text": [
      "<class 'numpy.int64'>\n",
      "<class 'str'>\n"
     ]
    }
   ],
   "source": [
    "# chequeo compatibilidad del tipo de datos columna \"ID\"\n",
    "\n",
    "print(type(df_credits['id'][0]))\n",
    "print(type(df_mov['id'][0]))"
   ]
  },
  {
   "cell_type": "code",
   "execution_count": 18,
   "metadata": {},
   "outputs": [],
   "source": [
    "# solucionar incompatibilidad de tipo de datos\n",
    "\n",
    "df_credits['id'] = df_credits['id'].astype(str)"
   ]
  },
  {
   "cell_type": "code",
   "execution_count": 19,
   "metadata": {},
   "outputs": [],
   "source": [
    "# JOIN. Uso outer sobre movies (45466), porque tiene mas registros que credits (45432). \n",
    "\n",
    "df_movies=df_mov.merge(df_credits, how = 'outer', on = 'id')"
   ]
  },
  {
   "cell_type": "code",
   "execution_count": 10,
   "metadata": {},
   "outputs": [
    {
     "data": {
      "text/html": [
       "<div>\n",
       "<style scoped>\n",
       "    .dataframe tbody tr th:only-of-type {\n",
       "        vertical-align: middle;\n",
       "    }\n",
       "\n",
       "    .dataframe tbody tr th {\n",
       "        vertical-align: top;\n",
       "    }\n",
       "\n",
       "    .dataframe thead th {\n",
       "        text-align: right;\n",
       "    }\n",
       "</style>\n",
       "<table border=\"1\" class=\"dataframe\">\n",
       "  <thead>\n",
       "    <tr style=\"text-align: right;\">\n",
       "      <th></th>\n",
       "      <th>adult</th>\n",
       "      <th>belongs_to_collection</th>\n",
       "      <th>budget</th>\n",
       "      <th>genres</th>\n",
       "      <th>homepage</th>\n",
       "      <th>id</th>\n",
       "      <th>imdb_id</th>\n",
       "      <th>original_language</th>\n",
       "      <th>original_title</th>\n",
       "      <th>overview</th>\n",
       "      <th>...</th>\n",
       "      <th>runtime</th>\n",
       "      <th>spoken_languages</th>\n",
       "      <th>status</th>\n",
       "      <th>tagline</th>\n",
       "      <th>title</th>\n",
       "      <th>video</th>\n",
       "      <th>vote_average</th>\n",
       "      <th>vote_count</th>\n",
       "      <th>cast</th>\n",
       "      <th>crew</th>\n",
       "    </tr>\n",
       "  </thead>\n",
       "  <tbody>\n",
       "    <tr>\n",
       "      <th>19748</th>\n",
       "      <td>- Written by Ørnås</td>\n",
       "      <td>0.065736</td>\n",
       "      <td>/ff9qCepilowshEtG2GYWwzt2bs4.jpg</td>\n",
       "      <td>[{'name': 'Carousel Productions', 'id': 11176}...</td>\n",
       "      <td>[{'iso_3166_1': 'CA', 'name': 'Canada'}, {'iso...</td>\n",
       "      <td>1997-08-20</td>\n",
       "      <td>0</td>\n",
       "      <td>104.0</td>\n",
       "      <td>[{'iso_639_1': 'en', 'name': 'English'}]</td>\n",
       "      <td>Released</td>\n",
       "      <td>...</td>\n",
       "      <td>NaN</td>\n",
       "      <td>NaN</td>\n",
       "      <td>NaN</td>\n",
       "      <td>NaN</td>\n",
       "      <td>NaN</td>\n",
       "      <td>NaN</td>\n",
       "      <td>NaN</td>\n",
       "      <td>NaN</td>\n",
       "      <td>NaN</td>\n",
       "      <td>NaN</td>\n",
       "    </tr>\n",
       "    <tr>\n",
       "      <th>29512</th>\n",
       "      <td>Rune Balot goes to a casino connected to the ...</td>\n",
       "      <td>1.931659</td>\n",
       "      <td>/zV8bHuSL6WXoD6FWogP9j4x80bL.jpg</td>\n",
       "      <td>[{'name': 'Aniplex', 'id': 2883}, {'name': 'Go...</td>\n",
       "      <td>[{'iso_3166_1': 'US', 'name': 'United States o...</td>\n",
       "      <td>2012-09-29</td>\n",
       "      <td>0</td>\n",
       "      <td>68.0</td>\n",
       "      <td>[{'iso_639_1': 'ja', 'name': '日本語'}]</td>\n",
       "      <td>Released</td>\n",
       "      <td>...</td>\n",
       "      <td>NaN</td>\n",
       "      <td>NaN</td>\n",
       "      <td>NaN</td>\n",
       "      <td>NaN</td>\n",
       "      <td>NaN</td>\n",
       "      <td>NaN</td>\n",
       "      <td>NaN</td>\n",
       "      <td>NaN</td>\n",
       "      <td>NaN</td>\n",
       "      <td>NaN</td>\n",
       "    </tr>\n",
       "    <tr>\n",
       "      <th>35594</th>\n",
       "      <td>Avalanche Sharks tells the story of a bikini ...</td>\n",
       "      <td>2.185485</td>\n",
       "      <td>/zaSf5OG7V8X8gqFvly88zDdRm46.jpg</td>\n",
       "      <td>[{'name': 'Odyssey Media', 'id': 17161}, {'nam...</td>\n",
       "      <td>[{'iso_3166_1': 'CA', 'name': 'Canada'}]</td>\n",
       "      <td>2014-01-01</td>\n",
       "      <td>0</td>\n",
       "      <td>82.0</td>\n",
       "      <td>[{'iso_639_1': 'en', 'name': 'English'}]</td>\n",
       "      <td>Released</td>\n",
       "      <td>...</td>\n",
       "      <td>NaN</td>\n",
       "      <td>NaN</td>\n",
       "      <td>NaN</td>\n",
       "      <td>NaN</td>\n",
       "      <td>NaN</td>\n",
       "      <td>NaN</td>\n",
       "      <td>NaN</td>\n",
       "      <td>NaN</td>\n",
       "      <td>NaN</td>\n",
       "      <td>NaN</td>\n",
       "    </tr>\n",
       "    <tr>\n",
       "      <th>42886</th>\n",
       "      <td>False</td>\n",
       "      <td>NaN</td>\n",
       "      <td>0</td>\n",
       "      <td>[]</td>\n",
       "      <td>NaN</td>\n",
       "      <td>401840</td>\n",
       "      <td>tt3291632</td>\n",
       "      <td>es</td>\n",
       "      <td>School's out</td>\n",
       "      <td>Two high school kids mentored by a nightclub o...</td>\n",
       "      <td>...</td>\n",
       "      <td>0.0</td>\n",
       "      <td>[]</td>\n",
       "      <td>Released</td>\n",
       "      <td>NaN</td>\n",
       "      <td>School's out</td>\n",
       "      <td>False</td>\n",
       "      <td>0.0</td>\n",
       "      <td>0.0</td>\n",
       "      <td>NaN</td>\n",
       "      <td>NaN</td>\n",
       "    </tr>\n",
       "  </tbody>\n",
       "</table>\n",
       "<p>4 rows × 26 columns</p>\n",
       "</div>"
      ],
      "text/plain": [
       "                                                   adult  \\\n",
       "19748                                 - Written by Ørnås   \n",
       "29512   Rune Balot goes to a casino connected to the ...   \n",
       "35594   Avalanche Sharks tells the story of a bikini ...   \n",
       "42886                                              False   \n",
       "\n",
       "      belongs_to_collection                            budget  \\\n",
       "19748              0.065736  /ff9qCepilowshEtG2GYWwzt2bs4.jpg   \n",
       "29512              1.931659  /zV8bHuSL6WXoD6FWogP9j4x80bL.jpg   \n",
       "35594              2.185485  /zaSf5OG7V8X8gqFvly88zDdRm46.jpg   \n",
       "42886                   NaN                                 0   \n",
       "\n",
       "                                                  genres  \\\n",
       "19748  [{'name': 'Carousel Productions', 'id': 11176}...   \n",
       "29512  [{'name': 'Aniplex', 'id': 2883}, {'name': 'Go...   \n",
       "35594  [{'name': 'Odyssey Media', 'id': 17161}, {'nam...   \n",
       "42886                                                 []   \n",
       "\n",
       "                                                homepage          id  \\\n",
       "19748  [{'iso_3166_1': 'CA', 'name': 'Canada'}, {'iso...  1997-08-20   \n",
       "29512  [{'iso_3166_1': 'US', 'name': 'United States o...  2012-09-29   \n",
       "35594           [{'iso_3166_1': 'CA', 'name': 'Canada'}]  2014-01-01   \n",
       "42886                                                NaN      401840   \n",
       "\n",
       "         imdb_id original_language                            original_title  \\\n",
       "19748          0             104.0  [{'iso_639_1': 'en', 'name': 'English'}]   \n",
       "29512          0              68.0      [{'iso_639_1': 'ja', 'name': '日本語'}]   \n",
       "35594          0              82.0  [{'iso_639_1': 'en', 'name': 'English'}]   \n",
       "42886  tt3291632                es                              School's out   \n",
       "\n",
       "                                                overview  ... runtime  \\\n",
       "19748                                           Released  ...     NaN   \n",
       "29512                                           Released  ...     NaN   \n",
       "35594                                           Released  ...     NaN   \n",
       "42886  Two high school kids mentored by a nightclub o...  ...     0.0   \n",
       "\n",
       "      spoken_languages    status tagline         title  video  vote_average  \\\n",
       "19748              NaN       NaN     NaN           NaN    NaN           NaN   \n",
       "29512              NaN       NaN     NaN           NaN    NaN           NaN   \n",
       "35594              NaN       NaN     NaN           NaN    NaN           NaN   \n",
       "42886               []  Released     NaN  School's out  False           0.0   \n",
       "\n",
       "      vote_count cast crew  \n",
       "19748        NaN  NaN  NaN  \n",
       "29512        NaN  NaN  NaN  \n",
       "35594        NaN  NaN  NaN  \n",
       "42886        0.0  NaN  NaN  \n",
       "\n",
       "[4 rows x 26 columns]"
      ]
     },
     "execution_count": 10,
     "metadata": {},
     "output_type": "execute_result"
    }
   ],
   "source": [
    "# registros que quedaron vacíos en Cast o Crew\n",
    "\n",
    "sin_cast = df_movies[df_movies['cast'].isnull()]\n",
    "sin_cast"
   ]
  },
  {
   "cell_type": "code",
   "execution_count": 20,
   "metadata": {},
   "outputs": [],
   "source": [
    "# se eliminan filas que se encontraron con problemas en el registro original\n",
    "\n",
    "df_movies = df_movies.dropna(subset=['cast'])\n"
   ]
  },
  {
   "cell_type": "markdown",
   "metadata": {},
   "source": [
    "# Transformaciones"
   ]
  },
  {
   "cell_type": "code",
   "execution_count": 21,
   "metadata": {},
   "outputs": [],
   "source": [
    "# tratamiento de nulos en columnas sobre las que se harán operaciones\n",
    "\n",
    "df_movies['budget'] = df_movies['budget'].fillna(0)\n",
    "df_movies['revenue'] = df_movies['revenue'].fillna(0)"
   ]
  },
  {
   "cell_type": "code",
   "execution_count": 22,
   "metadata": {},
   "outputs": [],
   "source": [
    "#también se eliminan nulos en Cast y Crew porque pueden interferir al aplanar los diccionarios\n",
    "df_movies = df_movies.dropna(subset=['cast'])\n",
    "df_movies = df_movies.dropna(subset=['crew'])"
   ]
  },
  {
   "cell_type": "code",
   "execution_count": 23,
   "metadata": {},
   "outputs": [],
   "source": [
    "# Tratamiento de las fechas. \n",
    "# Extracción del año y creación de columna 'Release year'\n",
    "# se separa la columna de la fecha en 3 y se eliminan las que sobran\n",
    "\n",
    "df_movies[['release_year','release_month', 'release_day']] = df_movies.release_date.str.split(pat='-',expand=True)\n",
    "\n",
    "del df_movies['release_month']\n",
    "del df_movies['release_day']\n",
    "\n",
    "# pasar a formato fecha aaa/mm/dd. Los datos que no son strings se convierten en nulos para luego filtrarlos y eliminarlos\n",
    "df_movies['release_date'] = pd.to_datetime(df_movies['release_date'], format=\"%Y/%m/%d\", errors = 'coerce')\n",
    "\n",
    "df_movies = df_movies.dropna(subset=['release_date'])\n"
   ]
  },
  {
   "cell_type": "code",
   "execution_count": 24,
   "metadata": {},
   "outputs": [],
   "source": [
    "# se crea la columna con el retorno de inversión, llamada 'return' con los campos revenue y budget (revenue/budget). Si no hay datos disponibles para calcularlo, deberá tomar el valor 0.\n",
    "def calcularRetorno(row):\n",
    "    row['revenue'] = pd.to_numeric(row['revenue'], errors = 'coerce')\n",
    "    row['budget'] = pd.to_numeric(row['budget'], errors = 'coerce')\n",
    "    if row['revenue'] == 0 or row['budget'] == 0:\n",
    "        return 0\n",
    "    else:\n",
    "        return round(row['revenue'] / row['budget'],2)\n",
    "\n",
    "df_movies['return'] = np.where((df_movies['revenue'] == 0) | (df_movies['budget'] == 0), 0, df_movies.apply(calcularRetorno, axis=1))\n"
   ]
  },
  {
   "cell_type": "code",
   "execution_count": 25,
   "metadata": {},
   "outputs": [],
   "source": [
    "# Se eliminan columnas que no se van a usar para el modelo ni para las APIs\n",
    "columnas_aEliminar = ['video', 'imdb_id', 'adult', 'original_title', 'poster_path', 'homepage']\n",
    "df_movies.drop(columns = columnas_aEliminar, inplace=True)\n"
   ]
  },
  {
   "cell_type": "code",
   "execution_count": 26,
   "metadata": {},
   "outputs": [],
   "source": [
    "# desanidado de columnas\n",
    "def desanidar(obj):\n",
    "    lista = []\n",
    "    for i in literal_eval (obj):\n",
    "        try:\n",
    "            lista.append(i['name'])\n",
    "        except (ValueError, TypeError, KeyError):\n",
    "            pass\n",
    "    return lista\n",
    "\n",
    "columnas_aDesanidar = ['genres', 'production_companies', 'production_countries', 'spoken_languages', 'cast']\n",
    "df_movies[columnas_aDesanidar] = df_movies[columnas_aDesanidar].applymap(desanidar)\n"
   ]
  },
  {
   "cell_type": "code",
   "execution_count": 27,
   "metadata": {},
   "outputs": [],
   "source": [
    "import ast\n",
    "def desanidar(obj):\n",
    "    if isinstance(obj, str) and '{' in obj:\n",
    "        dic = ast.literal_eval(obj)\n",
    "        return dic['name']"
   ]
  },
  {
   "cell_type": "code",
   "execution_count": 28,
   "metadata": {},
   "outputs": [],
   "source": [
    "df_movies['belongs_to_collection'] = df_movies['belongs_to_collection'].apply(desanidar)"
   ]
  },
  {
   "cell_type": "code",
   "execution_count": 29,
   "metadata": {},
   "outputs": [],
   "source": [
    "def desanidar(obj):\n",
    "    lista = []\n",
    "    for i in literal_eval (obj):\n",
    "        if i['job'] == 'Director':\n",
    "            try:\n",
    "                lista.append(i['name'])\n",
    "            except (ValueError, TypeError, KeyError):\n",
    "                pass\n",
    "    return lista"
   ]
  },
  {
   "cell_type": "code",
   "execution_count": 30,
   "metadata": {},
   "outputs": [],
   "source": [
    "df_movies['crew'] = df_movies['crew'].apply(desanidar)"
   ]
  },
  {
   "cell_type": "code",
   "execution_count": null,
   "metadata": {},
   "outputs": [],
   "source": [
    "# se exporta csv completo limpio para consumir\n",
    "df_movies.to_csv(r'C:\\Users\\romin\\Documents\\PROGRAMACION\\CIENCIA DE DATOS\\HENRY\\LABS\\PROYECTO INDIVIDUAL\\PI 01 MLOps\\df_movies_final.csv')\n"
   ]
  }
 ],
 "metadata": {
  "kernelspec": {
   "display_name": "Python 3",
   "language": "python",
   "name": "python3"
  },
  "language_info": {
   "codemirror_mode": {
    "name": "ipython",
    "version": 3
   },
   "file_extension": ".py",
   "mimetype": "text/x-python",
   "name": "python",
   "nbconvert_exporter": "python",
   "pygments_lexer": "ipython3",
   "version": "3.11.0"
  }
 },
 "nbformat": 4,
 "nbformat_minor": 2
}
