{
 "cells": [
  {
   "cell_type": "markdown",
   "metadata": {},
   "source": [
    "# SISTEMA DE RECOMENDACION BASADO EN EL CONTENIDO"
   ]
  },
  {
   "cell_type": "code",
   "execution_count": 2,
   "metadata": {},
   "outputs": [],
   "source": [
    "import numpy as np\n",
    "import pandas as pd\n",
    "import difflib\n",
    "from sklearn.feature_extraction.text import TfidfVectorizer\n",
    "from sklearn.metrics.pairwise import cosine_similarity\n",
    "from ast import literal_eval"
   ]
  },
  {
   "cell_type": "markdown",
   "metadata": {},
   "source": [
    "## Preparacion del set de datos para el modelo"
   ]
  },
  {
   "cell_type": "code",
   "execution_count": 3,
   "metadata": {},
   "outputs": [],
   "source": [
    "columnas = ['title', 'genres', 'id', 'release_year', 'runtime', 'popularity', 'cast', 'crew']\n",
    "df_movies = pd.read_csv(r\"C:\\Users\\romin\\Documents\\PROGRAMACION\\CIENCIA DE DATOS\\HENRY\\LABS\\PROYECTO INDIVIDUAL\\PI 01 MLOps\\df_movies_final.csv\", usecols = columnas)\n"
   ]
  },
  {
   "cell_type": "markdown",
   "metadata": {},
   "source": [
    "# Criterios para determinar qué features usar en el modelo \n",
    "\n",
    "En base al entendimiento del dominio de las preferencias de los consumidores de películas, se implemente un sistema de recomendación basado en la similitud del contenido de los campos Género, Cast y Crew.\n",
    "Se considera que el comportamiento de los usuarios puede presentar un tendencia a preferir películas del mismo género, de los mismos actores y del mismo director. \n",
    "\n",
    "Por otra parte, también se considera que un sistema de recomendación será exitoso si recomienda películas con mejor recibimiento por parte del público, lo que puede ser inferido por el puntaje.\n",
    "Finalmente, el sistema recomendará por orden de fecha de lanzamiento, comenzando por las películas mas nuevas, que probablmente el usuario aún no haya visto.\n",
    " "
   ]
  },
  {
   "cell_type": "code",
   "execution_count": 4,
   "metadata": {},
   "outputs": [],
   "source": [
    "columnas = ['popularity', 'release_year']  \n",
    "df_movies = df_movies.sort_values(by=columnas, ascending=False)\n",
    "\n",
    "# se verificó que el set de datos contenía series, se decide filtar las filas por duración, eliminando las series y los cortos\n",
    "df_modelo = df_movies[(df_movies['runtime'] == 0.0) | (df_movies['runtime']>40)]\n"
   ]
  },
  {
   "cell_type": "code",
   "execution_count": 5,
   "metadata": {},
   "outputs": [],
   "source": [
    "# limpieza de los campos a utilizar\n",
    "\n",
    "df_movies['genres'] = df_movies['genres'].str.replace(\"[\\[\\]',]\", \"\", regex=True)\n",
    "df_movies['cast'] = df_movies['cast'].str.replace(\"[\\[\\]',]\", \"\", regex=True)\n",
    "df_movies['crew'] = df_movies['crew'].str.replace(\"[\\[\\]',]\", \"\", regex=True)\n"
   ]
  },
  {
   "cell_type": "code",
   "execution_count": 6,
   "metadata": {},
   "outputs": [],
   "source": [
    "df_movies = df_movies.head(6000)\n",
    "df_movies.reset_index(drop=True, inplace=True)\n",
    "df_movies.reset_index(inplace=True)"
   ]
  },
  {
   "cell_type": "markdown",
   "metadata": {},
   "source": [
    "# Implementación del modelo"
   ]
  },
  {
   "cell_type": "code",
   "execution_count": 7,
   "metadata": {},
   "outputs": [],
   "source": [
    "selected_features = ['cast','title', 'crew', 'genres']\n",
    "combined_features = df_movies['cast']+ ' ' + df_movies['title']+ ' ' + df_movies['genres']+ ' ' + df_movies['crew']\n"
   ]
  },
  {
   "cell_type": "code",
   "execution_count": 8,
   "metadata": {},
   "outputs": [],
   "source": [
    "vectorizer = TfidfVectorizer()\n"
   ]
  },
  {
   "cell_type": "code",
   "execution_count": 9,
   "metadata": {},
   "outputs": [],
   "source": [
    "feature_vectors = vectorizer.fit_transform(combined_features)\n"
   ]
  },
  {
   "cell_type": "code",
   "execution_count": 10,
   "metadata": {},
   "outputs": [
    {
     "name": "stdout",
     "output_type": "stream",
     "text": [
      "[[1.         0.01441144 0.02561005 ... 0.02176836 0.00543687 0.00232415]\n",
      " [0.01441144 1.         0.04390941 ... 0.01543458 0.00337302 0.01085458]\n",
      " [0.02561005 0.04390941 1.         ... 0.00350186 0.02376122 0.0017517 ]\n",
      " ...\n",
      " [0.02176836 0.01543458 0.00350186 ... 1.         0.00743264 0.02512097]\n",
      " [0.00543687 0.00337302 0.02376122 ... 0.00743264 1.         0.00189326]\n",
      " [0.00232415 0.01085458 0.0017517  ... 0.02512097 0.00189326 1.        ]]\n"
     ]
    }
   ],
   "source": [
    "similarity = cosine_similarity(feature_vectors)\n",
    "print(similarity)\n"
   ]
  },
  {
   "cell_type": "code",
   "execution_count": 11,
   "metadata": {},
   "outputs": [],
   "source": [
    "# TITULOS\n",
    "# se guardan los titulos, para poder hacer la búsqueda por nombre\n",
    "\n",
    "list_of_all_titles = df_movies['title'].tolist()\n"
   ]
  },
  {
   "cell_type": "code",
   "execution_count": 12,
   "metadata": {},
   "outputs": [],
   "source": [
    "def buscar_titulo(titulo_pelicula):\n",
    "    find_close_match = difflib.get_close_matches(titulo_pelicula, list_of_all_titles)\n",
    "    close_match = find_close_match[0]\n",
    "    index_of_the_movie = df_movies[df_movies.title == close_match]['index'].values[0]\n",
    "    similarity_score = list(enumerate(similarity[index_of_the_movie]))\n",
    "    sorted_similar_movies = sorted(similarity_score, key = lambda x:x[1], reverse = True) \n",
    "    print('Peliculas sugeridas : \\n')\n",
    "    i = 1\n",
    "    for movie in sorted_similar_movies:\n",
    "        index = movie[0]\n",
    "        title_from_index = df_movies[df_movies.index==index]['title'].values[0]\n",
    "        if (i<6):\n",
    "            print(i, '.',title_from_index)\n",
    "            i+=1\n"
   ]
  },
  {
   "cell_type": "code",
   "execution_count": 13,
   "metadata": {},
   "outputs": [
    {
     "name": "stdout",
     "output_type": "stream",
     "text": [
      "Peliculas sugeridas : \n",
      "\n",
      "1 . The Terminator\n",
      "2 . Terminator 2: Judgment Day\n",
      "3 . Superman: Doomsday\n",
      "4 . Terminator 3: Rise of the Machines\n",
      "5 . True Lies\n"
     ]
    }
   ],
   "source": [
    "buscar_titulo('The Terminator')"
   ]
  }
 ],
 "metadata": {
  "kernelspec": {
   "display_name": "Python 3",
   "language": "python",
   "name": "python3"
  },
  "language_info": {
   "codemirror_mode": {
    "name": "ipython",
    "version": 3
   },
   "file_extension": ".py",
   "mimetype": "text/x-python",
   "name": "python",
   "nbconvert_exporter": "python",
   "pygments_lexer": "ipython3",
   "version": "3.11.0"
  }
 },
 "nbformat": 4,
 "nbformat_minor": 2
}
